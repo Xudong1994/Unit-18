{
 "cells": [
  {
   "cell_type": "markdown",
   "id": "b56a004b",
   "metadata": {},
   "source": [
    "Capstone Project Two : Springboard Data Science career track"
   ]
  },
  {
   "cell_type": "markdown",
   "id": "d4c4a6fa",
   "metadata": {},
   "source": [
    "Project description\n",
    "The continued expansion of the mobile phone market is inevitable. In the case of mixed mobile phone parameters, this project hopes to predict the price of mobile phones by establishing a model between mobile phone prices and various parameters. The purpose of this project is Small and medium mobile phone companies provide the parameter structure of the mobile phone market so that they can better position their products. This is a regression problem. "
   ]
  },
  {
   "cell_type": "markdown",
   "id": "fccbece1",
   "metadata": {},
   "source": [
    "The data\n",
    "The dataset used in this project are all provided by Kaggle. This data is about the selling price and parameter information of Android phone. The main parameters are memory, running speed, mobile phone screen size and resolution, weight and so on. In this project, the price of the mobile phone will be the dependent variable, and other parameters will be the independent variable.The Nan item has been covered in preliminary processing of the data. Since there are too many categories in the catagorical variable, only the numerical variable in the dataset will be used in the prediction model. \n",
    "\n",
    "•\tMobile_price \t     the price of mobile phone\n",
    "•\tDual_sim  \t        can contain two sim card or not\n",
    "•\tResolution_multiply   screen resolution product of horizontal and vertical pixels\n",
    "•\tNum_cores\t        the core number of processor\n",
    "•\tMp_speed           measure of the speed of your internet connection Unit: megabytes per second\n",
    "•\tInt_memory \t        Mobile phone internal data storage capacity\n",
    "•\tRam \t           Random Access Memory\n",
    "•\tBattery_power \t     Mobile phone battery capacity\n",
    "•\tMob_width \t        the width of mobile phone\n",
    "•\tMob_height\t        the height of mobile phone\n",
    "•\tMob_depth\t        the depth of mobile phone\n",
    "•\tDisp_size_cm \t\t   the diagonally of mobile phone screen \n",
    "\n"
   ]
  },
  {
   "cell_type": "code",
   "execution_count": 63,
   "id": "36a1a1fb",
   "metadata": {},
   "outputs": [],
   "source": [
    "# import necessary library\n",
    "\n",
    "import pandas as pd \n",
    "import numpy as np\n",
    "import seaborn as sns\n",
    "from matplotlib  import pyplot as plt \n",
    "from sklearn.preprocessing import StandardScaler\n",
    "from sklearn.model_selection import train_test_split\n",
    "from sklearn.metrics import confusion_matrix\n",
    "from sklearn.metrics import classification_report\n",
    "from sklearn.metrics import mean_squared_error"
   ]
  },
  {
   "cell_type": "code",
   "execution_count": 2,
   "id": "8d365619",
   "metadata": {},
   "outputs": [],
   "source": [
    "# Read dataset\n",
    "\n",
    "df = pd.read_csv(\"E:/springboard/unit 18/scaled_df.csv\",index_col = 0)"
   ]
  },
  {
   "cell_type": "code",
   "execution_count": 3,
   "id": "a73df124",
   "metadata": {},
   "outputs": [
    {
     "data": {
      "text/html": [
       "<div>\n",
       "<style scoped>\n",
       "    .dataframe tbody tr th:only-of-type {\n",
       "        vertical-align: middle;\n",
       "    }\n",
       "\n",
       "    .dataframe tbody tr th {\n",
       "        vertical-align: top;\n",
       "    }\n",
       "\n",
       "    .dataframe thead th {\n",
       "        text-align: right;\n",
       "    }\n",
       "</style>\n",
       "<table border=\"1\" class=\"dataframe\">\n",
       "  <thead>\n",
       "    <tr style=\"text-align: right;\">\n",
       "      <th></th>\n",
       "      <th>mobile_price</th>\n",
       "      <th>dual_sim</th>\n",
       "      <th>resolution_multiply</th>\n",
       "      <th>num_cores</th>\n",
       "      <th>mp_speed</th>\n",
       "      <th>int_memory</th>\n",
       "      <th>ram</th>\n",
       "      <th>battery_power</th>\n",
       "      <th>mob_width</th>\n",
       "      <th>mob_height</th>\n",
       "      <th>mob_depth</th>\n",
       "      <th>mob_weight</th>\n",
       "      <th>disp_size_cm</th>\n",
       "    </tr>\n",
       "  </thead>\n",
       "  <tbody>\n",
       "    <tr>\n",
       "      <th>0</th>\n",
       "      <td>-0.879520</td>\n",
       "      <td>0.046727</td>\n",
       "      <td>-1.009722</td>\n",
       "      <td>0.18086</td>\n",
       "      <td>-0.337398</td>\n",
       "      <td>-0.849575</td>\n",
       "      <td>-0.902576</td>\n",
       "      <td>1.363092</td>\n",
       "      <td>0.058955</td>\n",
       "      <td>0.546276</td>\n",
       "      <td>-0.139627</td>\n",
       "      <td>0.822889</td>\n",
       "      <td>0.801207</td>\n",
       "    </tr>\n",
       "    <tr>\n",
       "      <th>1</th>\n",
       "      <td>-0.879520</td>\n",
       "      <td>0.046727</td>\n",
       "      <td>-1.009722</td>\n",
       "      <td>0.18086</td>\n",
       "      <td>-0.337398</td>\n",
       "      <td>-0.849575</td>\n",
       "      <td>-0.902576</td>\n",
       "      <td>1.363092</td>\n",
       "      <td>0.058955</td>\n",
       "      <td>0.546276</td>\n",
       "      <td>-0.139627</td>\n",
       "      <td>0.822889</td>\n",
       "      <td>0.801207</td>\n",
       "    </tr>\n",
       "    <tr>\n",
       "      <th>2</th>\n",
       "      <td>-0.764467</td>\n",
       "      <td>0.046727</td>\n",
       "      <td>-1.009722</td>\n",
       "      <td>0.18086</td>\n",
       "      <td>-0.337398</td>\n",
       "      <td>-0.356117</td>\n",
       "      <td>-0.421970</td>\n",
       "      <td>1.363092</td>\n",
       "      <td>0.058955</td>\n",
       "      <td>0.546276</td>\n",
       "      <td>-0.139627</td>\n",
       "      <td>0.822889</td>\n",
       "      <td>0.801207</td>\n",
       "    </tr>\n",
       "    <tr>\n",
       "      <th>3</th>\n",
       "      <td>-0.764467</td>\n",
       "      <td>0.046727</td>\n",
       "      <td>-1.009722</td>\n",
       "      <td>0.18086</td>\n",
       "      <td>-0.337398</td>\n",
       "      <td>-0.356117</td>\n",
       "      <td>-0.421970</td>\n",
       "      <td>1.363092</td>\n",
       "      <td>0.058955</td>\n",
       "      <td>0.546276</td>\n",
       "      <td>-0.139627</td>\n",
       "      <td>0.822889</td>\n",
       "      <td>0.801207</td>\n",
       "    </tr>\n",
       "    <tr>\n",
       "      <th>4</th>\n",
       "      <td>-0.534360</td>\n",
       "      <td>0.046727</td>\n",
       "      <td>-1.009722</td>\n",
       "      <td>0.18086</td>\n",
       "      <td>-0.337398</td>\n",
       "      <td>0.630798</td>\n",
       "      <td>-0.421970</td>\n",
       "      <td>1.363092</td>\n",
       "      <td>0.089509</td>\n",
       "      <td>0.546276</td>\n",
       "      <td>-0.135725</td>\n",
       "      <td>1.046788</td>\n",
       "      <td>0.739798</td>\n",
       "    </tr>\n",
       "    <tr>\n",
       "      <th>...</th>\n",
       "      <td>...</td>\n",
       "      <td>...</td>\n",
       "      <td>...</td>\n",
       "      <td>...</td>\n",
       "      <td>...</td>\n",
       "      <td>...</td>\n",
       "      <td>...</td>\n",
       "      <td>...</td>\n",
       "      <td>...</td>\n",
       "      <td>...</td>\n",
       "      <td>...</td>\n",
       "      <td>...</td>\n",
       "      <td>...</td>\n",
       "    </tr>\n",
       "    <tr>\n",
       "      <th>454</th>\n",
       "      <td>-0.362815</td>\n",
       "      <td>0.046727</td>\n",
       "      <td>-1.172240</td>\n",
       "      <td>0.18086</td>\n",
       "      <td>1.088672</td>\n",
       "      <td>-0.849575</td>\n",
       "      <td>-0.902576</td>\n",
       "      <td>-1.595146</td>\n",
       "      <td>-0.086174</td>\n",
       "      <td>-0.592461</td>\n",
       "      <td>-0.237175</td>\n",
       "      <td>-2.087796</td>\n",
       "      <td>-1.753407</td>\n",
       "    </tr>\n",
       "    <tr>\n",
       "      <th>455</th>\n",
       "      <td>-0.823029</td>\n",
       "      <td>0.046727</td>\n",
       "      <td>-1.172240</td>\n",
       "      <td>0.18086</td>\n",
       "      <td>1.088672</td>\n",
       "      <td>-1.096304</td>\n",
       "      <td>-1.383182</td>\n",
       "      <td>-1.595146</td>\n",
       "      <td>-0.086174</td>\n",
       "      <td>-0.592461</td>\n",
       "      <td>-0.237175</td>\n",
       "      <td>-2.087796</td>\n",
       "      <td>-1.753407</td>\n",
       "    </tr>\n",
       "    <tr>\n",
       "      <th>456</th>\n",
       "      <td>0.730192</td>\n",
       "      <td>0.046727</td>\n",
       "      <td>0.838927</td>\n",
       "      <td>0.18086</td>\n",
       "      <td>-0.337398</td>\n",
       "      <td>-0.356117</td>\n",
       "      <td>-0.421970</td>\n",
       "      <td>-1.237557</td>\n",
       "      <td>0.081870</td>\n",
       "      <td>-0.141881</td>\n",
       "      <td>-0.229371</td>\n",
       "      <td>-1.248175</td>\n",
       "      <td>-0.107646</td>\n",
       "    </tr>\n",
       "    <tr>\n",
       "      <th>457</th>\n",
       "      <td>-0.305288</td>\n",
       "      <td>0.046727</td>\n",
       "      <td>0.930343</td>\n",
       "      <td>0.18086</td>\n",
       "      <td>-0.052184</td>\n",
       "      <td>0.630798</td>\n",
       "      <td>-0.421970</td>\n",
       "      <td>-0.229805</td>\n",
       "      <td>0.142977</td>\n",
       "      <td>0.349660</td>\n",
       "      <td>-0.190352</td>\n",
       "      <td>0.431066</td>\n",
       "      <td>0.838052</td>\n",
       "    </tr>\n",
       "    <tr>\n",
       "      <th>458</th>\n",
       "      <td>-0.305288</td>\n",
       "      <td>0.046727</td>\n",
       "      <td>0.930343</td>\n",
       "      <td>0.18086</td>\n",
       "      <td>-0.052184</td>\n",
       "      <td>0.630798</td>\n",
       "      <td>-0.421970</td>\n",
       "      <td>-0.229805</td>\n",
       "      <td>0.142977</td>\n",
       "      <td>0.349660</td>\n",
       "      <td>-0.190352</td>\n",
       "      <td>0.431066</td>\n",
       "      <td>0.838052</td>\n",
       "    </tr>\n",
       "  </tbody>\n",
       "</table>\n",
       "<p>459 rows × 13 columns</p>\n",
       "</div>"
      ],
      "text/plain": [
       "     mobile_price  dual_sim  resolution_multiply  num_cores  mp_speed  \\\n",
       "0       -0.879520  0.046727            -1.009722    0.18086 -0.337398   \n",
       "1       -0.879520  0.046727            -1.009722    0.18086 -0.337398   \n",
       "2       -0.764467  0.046727            -1.009722    0.18086 -0.337398   \n",
       "3       -0.764467  0.046727            -1.009722    0.18086 -0.337398   \n",
       "4       -0.534360  0.046727            -1.009722    0.18086 -0.337398   \n",
       "..            ...       ...                  ...        ...       ...   \n",
       "454     -0.362815  0.046727            -1.172240    0.18086  1.088672   \n",
       "455     -0.823029  0.046727            -1.172240    0.18086  1.088672   \n",
       "456      0.730192  0.046727             0.838927    0.18086 -0.337398   \n",
       "457     -0.305288  0.046727             0.930343    0.18086 -0.052184   \n",
       "458     -0.305288  0.046727             0.930343    0.18086 -0.052184   \n",
       "\n",
       "     int_memory       ram  battery_power  mob_width  mob_height  mob_depth  \\\n",
       "0     -0.849575 -0.902576       1.363092   0.058955    0.546276  -0.139627   \n",
       "1     -0.849575 -0.902576       1.363092   0.058955    0.546276  -0.139627   \n",
       "2     -0.356117 -0.421970       1.363092   0.058955    0.546276  -0.139627   \n",
       "3     -0.356117 -0.421970       1.363092   0.058955    0.546276  -0.139627   \n",
       "4      0.630798 -0.421970       1.363092   0.089509    0.546276  -0.135725   \n",
       "..          ...       ...            ...        ...         ...        ...   \n",
       "454   -0.849575 -0.902576      -1.595146  -0.086174   -0.592461  -0.237175   \n",
       "455   -1.096304 -1.383182      -1.595146  -0.086174   -0.592461  -0.237175   \n",
       "456   -0.356117 -0.421970      -1.237557   0.081870   -0.141881  -0.229371   \n",
       "457    0.630798 -0.421970      -0.229805   0.142977    0.349660  -0.190352   \n",
       "458    0.630798 -0.421970      -0.229805   0.142977    0.349660  -0.190352   \n",
       "\n",
       "     mob_weight  disp_size_cm  \n",
       "0      0.822889      0.801207  \n",
       "1      0.822889      0.801207  \n",
       "2      0.822889      0.801207  \n",
       "3      0.822889      0.801207  \n",
       "4      1.046788      0.739798  \n",
       "..          ...           ...  \n",
       "454   -2.087796     -1.753407  \n",
       "455   -2.087796     -1.753407  \n",
       "456   -1.248175     -0.107646  \n",
       "457    0.431066      0.838052  \n",
       "458    0.431066      0.838052  \n",
       "\n",
       "[459 rows x 13 columns]"
      ]
     },
     "execution_count": 3,
     "metadata": {},
     "output_type": "execute_result"
    }
   ],
   "source": [
    "df"
   ]
  },
  {
   "cell_type": "code",
   "execution_count": 4,
   "id": "9a181edb",
   "metadata": {},
   "outputs": [],
   "source": [
    "features = list(df.columns)\n",
    "del features[0]"
   ]
  },
  {
   "cell_type": "code",
   "execution_count": 5,
   "id": "c09b9616",
   "metadata": {},
   "outputs": [],
   "source": [
    "# Define X,y\n",
    "\n",
    "X = df[features]\n",
    "y = df[\"mobile_price\"]"
   ]
  },
  {
   "cell_type": "code",
   "execution_count": 6,
   "id": "bc90d5d1",
   "metadata": {},
   "outputs": [],
   "source": [
    "scaler = StandardScaler() \n",
    "scaled_df = scaler.fit_transform(df) \n",
    "scaled_df = pd.DataFrame(scaled_df, columns=df.columns) "
   ]
  },
  {
   "cell_type": "code",
   "execution_count": 7,
   "id": "44f028e7",
   "metadata": {},
   "outputs": [],
   "source": [
    "# Split X_train, X_test, y_train, y_test\n",
    "\n",
    "X_train, X_test, y_train, y_test = train_test_split(X,y, test_size=0.25, random_state=42)"
   ]
  },
  {
   "cell_type": "code",
   "execution_count": 8,
   "id": "47442e79",
   "metadata": {},
   "outputs": [],
   "source": [
    "from sklearn.preprocessing import MinMaxScaler\n",
    "scaler_x = MinMaxScaler((-1,1))\n",
    "X_train = scaler_x.fit_transform(X_train)\n",
    "X_test = scaler_x.transform(X_test)"
   ]
  },
  {
   "cell_type": "code",
   "execution_count": 81,
   "id": "38bef4f8",
   "metadata": {},
   "outputs": [],
   "source": [
    "def rmse(prediction, actual):\n",
    "    return np.sqrt(((prediction - actual) ** 2).mean())"
   ]
  },
  {
   "cell_type": "code",
   "execution_count": 112,
   "id": "69ba1253",
   "metadata": {},
   "outputs": [
    {
     "name": "stdout",
     "output_type": "stream",
     "text": [
      "The LogisticRegression model accuarcy score is 0.683\n",
      "The mean squared error is 0.306\n",
      "The root mean quare error is 0.553\n"
     ]
    }
   ],
   "source": [
    "# LogisticRegression\n",
    "\n",
    "from sklearn.linear_model import LinearRegression\n",
    "\n",
    "Linear = LinearRegression()\n",
    "Linear.fit(X_train,y_train)\n",
    "y_predict_linear = Linear.predict(X_test)\n",
    "Accuracy_linear = Linear.score(X_test,y_test)\n",
    "print(\"The LogisticRegression model accuarcy score is \" + str(round(Accuracy_linear,3)))\n",
    "\n",
    "mse_linear = mean_squared_error(y_test,y_predict_linear)\n",
    "print(\"The mean squared error is \" + str(round(mse_linear,3)))\n",
    "\n",
    "rm_linear = rmse(y_test,y_predict_linear)\n",
    "print(\"The root mean quare error is \" + str(round(rm_linear,3)))"
   ]
  },
  {
   "cell_type": "code",
   "execution_count": 113,
   "id": "5697f93d",
   "metadata": {},
   "outputs": [
    {
     "name": "stdout",
     "output_type": "stream",
     "text": [
      "The lasso intercept of this model is 0.206\n",
      "The LassoRegression accuarcy score is 0.54\n",
      "The mean squared error is 0.445\n",
      "The root mean quare error is 0.667\n"
     ]
    }
   ],
   "source": [
    "# LassoRegression\n",
    "\n",
    "from sklearn import linear_model\n",
    "\n",
    "lasso = linear_model.Lasso(alpha=0.1)\n",
    "lasso.fit(X_train,y_train)\n",
    "y_predict_lasso = lasso.predict(X_test)\n",
    "print(\"The lasso intercept of this model is \" + str(round(lasso.intercept_,3)))\n",
    "\n",
    "Accuracy_lasso = lasso.score(X_test,y_test)\n",
    "print(\"The LassoRegression accuarcy score is \" + str(round(Accuracy_lasso,3)))\n",
    "\n",
    "mse_lasso = mean_squared_error(y_test,y_predict_lasso)\n",
    "print(\"The mean squared error is \" + str(round(mse_lasso,3)))\n",
    "\n",
    "rm_lasso = rmse(y_test,y_predict_lasso)\n",
    "print(\"The root mean quare error is \" + str(round(rm_lasso,3)))\n",
    "\n"
   ]
  },
  {
   "cell_type": "code",
   "execution_count": 114,
   "id": "f26f3f1b",
   "metadata": {},
   "outputs": [
    {
     "name": "stdout",
     "output_type": "stream",
     "text": [
      "The RidgeRgression model score is 0.685\n",
      "The mean squared error is 0.305\n",
      "The root mean square error is 0.552\n"
     ]
    }
   ],
   "source": [
    "# RidgeRegression\n",
    "\n",
    "from sklearn.linear_model import Ridge\n",
    "# training model with 0.5 alpha value\n",
    "ridge = Ridge(alpha = 1.0, normalize = False, tol = 0.001,solver ='auto', random_state = 42)\n",
    "ridge.fit(X_train, y_train)\n",
    "  \n",
    "y_predict_ridge = ridge.predict(X_test)\n",
    "  \n",
    "Accuracy_ridge = ridge.score(X_test, y_test)\n",
    "print(\"The RidgeRgression model score is \" + str(round(Accuracy_ridge,3)))\n",
    "\n",
    "mse_ridge = mean_squared_error(y_test,y_predict_ridge)\n",
    "print(\"The mean squared error is \" + str(round(mse_ridge,3)))\n",
    "\n",
    "rm_ridge = rmse(y_test,y_predict_ridge)\n",
    "print(\"The root mean square error is \" + str(round(rm_ridge,3)))"
   ]
  },
  {
   "cell_type": "code",
   "execution_count": 115,
   "id": "c02e98c8",
   "metadata": {},
   "outputs": [
    {
     "name": "stdout",
     "output_type": "stream",
     "text": [
      "The RandomForestRegression model accuracy score is 0.942\n",
      "The mean squared error is 0.056\n",
      "The root-mean-square error is 0.237\n"
     ]
    }
   ],
   "source": [
    "# RandomForestRegressor\n",
    "\n",
    "from sklearn.ensemble import RandomForestRegressor\n",
    "\n",
    "randomforest = RandomForestRegressor()\n",
    "randomforest.fit(X_train, y_train)\n",
    "\n",
    "y_predict_rf = randomforest.predict(X_test)\n",
    "Accuracy_rf = randomforest.score(X_test,y_test)\n",
    "print(\"The RandomForestRegression model accuracy score is \" + str(round(Accuracy_rf,3)))\n",
    "\n",
    "mse_rf = mean_squared_error(y_test,y_predict_rf)\n",
    "print(\"The mean squared error is \" + str(round(mse_rf,3)))\n",
    "\n",
    "rm_rf = rmse(y_test,y_predict_rf)\n",
    "print(\"The root-mean-square error is \" + str(round(rm_rf,3)))"
   ]
  },
  {
   "cell_type": "code",
   "execution_count": 116,
   "id": "d5f0c0f7",
   "metadata": {},
   "outputs": [
    {
     "name": "stdout",
     "output_type": "stream",
     "text": [
      "The KNeighborsRegression model accuracy score is 0.757\n",
      "The mean squared error is 0.235\n",
      "The root mean square error is 0.485\n"
     ]
    }
   ],
   "source": [
    "# KNeighborsRegression\n",
    "\n",
    "from sklearn.neighbors import KNeighborsRegressor\n",
    "knn = KNeighborsRegressor()\n",
    "knn.fit(X_train,y_train)\n",
    "\n",
    "y_predict_knn = knn.predict(X_test)\n",
    "Accuracy_knn = knn.score(X_test,y_test)\n",
    "print(\"The KNeighborsRegression model accuracy score is \" + str(round(Accuracy_knn,3)))\n",
    "\n",
    "mse_knn = mean_squared_error(y_test,y_predict_knn)\n",
    "print(\"The mean squared error is \" + str(round(mse_knn,3)))\n",
    "\n",
    "rm_knn = rmse(y_test,y_predict_knn)\n",
    "print(\"The root mean square error is \" + str(round(rm_knn,3)))"
   ]
  },
  {
   "cell_type": "code",
   "execution_count": 111,
   "id": "37f93233",
   "metadata": {},
   "outputs": [
    {
     "name": "stdout",
     "output_type": "stream",
     "text": [
      "The mean squared error is 0.56\n",
      "The root mean square error is 0.748\n"
     ]
    }
   ],
   "source": [
    "# SVM \n",
    "from sklearn.svm import SVR\n",
    "\n",
    "svm = SVR()\n",
    "svm.fit(X_train, y_train.astype(\"int\"))\n",
    "\n",
    "y_predict_svm = svm.predict(X_test)\n",
    "Accuracy_svm = svm.score(X_test,y_test)\n",
    "print(\"The svm model accuracy score is \" + str(round(Accuracy_knn,3)))\n",
    "\n",
    "mse_svm = mean_squared_error(y_test,y_predict_svm)\n",
    "print(\"The mean squared error is \" + str(round(mse_svm,3)))\n",
    "\n",
    "rm_svm = rmse(y_test,y_predict_svm)\n",
    "print(\"The root mean square error is \" + str(round(rm_svm,3)))"
   ]
  },
  {
   "cell_type": "code",
   "execution_count": 94,
   "id": "7dc6c330",
   "metadata": {},
   "outputs": [
    {
     "name": "stdout",
     "output_type": "stream",
     "text": [
      "Learning rate:  0.05\n",
      "Accuracy score (training): 0.588\n",
      "Accuracy score (validation): 0.553\n",
      "\n",
      "Learning rate:  0.1\n",
      "Accuracy score (training): 0.769\n",
      "Accuracy score (validation): 0.726\n",
      "\n",
      "Learning rate:  0.25\n",
      "Accuracy score (training): 0.897\n",
      "Accuracy score (validation): 0.850\n",
      "\n",
      "Learning rate:  0.5\n",
      "Accuracy score (training): 0.925\n",
      "Accuracy score (validation): 0.878\n",
      "\n",
      "Learning rate:  0.75\n",
      "Accuracy score (training): 0.919\n",
      "Accuracy score (validation): 0.866\n",
      "\n",
      "Learning rate:  1\n",
      "Accuracy score (training): 0.949\n",
      "Accuracy score (validation): 0.919\n",
      "\n"
     ]
    }
   ],
   "source": [
    "# Gradient Boosting\n",
    "\n",
    "from sklearn.ensemble import GradientBoostingRegressor\n",
    "\n",
    "learning_rates = [0.05, 0.1, 0.25, 0.5, 0.75, 1]\n",
    "for learning_rate in learning_rates:\n",
    "    gradient = GradientBoostingRegressor(n_estimators=20, learning_rate = learning_rate, max_features=2, max_depth = 2, random_state = 0)\n",
    "    gradient.fit(X_train, y_train)\n",
    "    print(\"Learning rate: \", learning_rate)\n",
    "    print(\"Accuracy score (training): {0:.3f}\".format(gradient.score(X_train, y_train)))\n",
    "    print(\"Accuracy score (validation): {0:.3f}\".format(gradient.score(X_test, y_test)))\n",
    "    print()"
   ]
  },
  {
   "cell_type": "code",
   "execution_count": 95,
   "id": "ee985713",
   "metadata": {},
   "outputs": [
    {
     "name": "stdout",
     "output_type": "stream",
     "text": [
      "The Gradient Boosting accuracy score is 0.757\n",
      "The mean squared error is 0.057\n",
      "The root mean square error is 0.238\n"
     ]
    }
   ],
   "source": [
    "# Gradient Boosting (2)\n",
    "\n",
    "gradient = GradientBoostingRegressor(n_estimators=30, learning_rate = 1, max_features=2, max_depth = 2, random_state = 0)\n",
    "gradient.fit(X_train, y_train)\n",
    "y_predict_gradient = gradient.predict(X_test)\n",
    "\n",
    "Accuracy_gradient = knn.score(X_test,y_test)\n",
    "print(\"The Gradient Boosting accuracy score is \" + str(round(Accuracy_gradient,3)))\n",
    "\n",
    "mse_gradient = mean_squared_error(y_test,y_predict_gradient)\n",
    "print(\"The mean squared error is \" + str(round(mse_gradient,3)))\n",
    "\n",
    "rm_gradient = rmse(y_test,y_predict_gradient)\n",
    "print(\"The root mean square error is \" + str(round(rm_gradient,3)))"
   ]
  },
  {
   "cell_type": "code",
   "execution_count": 122,
   "id": "b0ba9083",
   "metadata": {},
   "outputs": [
    {
     "name": "stdout",
     "output_type": "stream",
     "text": [
      "+-----------------------+------------------+-----------+----------+\n",
      "| Model                 |   Accuarcy score |       MSE |     RMSE |\n",
      "+=======================+==================+===========+==========+\n",
      "| LogisticRegression    |         0.68303  | 0.306277  | 0.553423 |\n",
      "+-----------------------+------------------+-----------+----------+\n",
      "| LassoRegression       |         0.539755 | 0.444718  | 0.666872 |\n",
      "+-----------------------+------------------+-----------+----------+\n",
      "| RidgeRegression       |         0.684624 | 0.304736  | 0.552029 |\n",
      "+-----------------------+------------------+-----------+----------+\n",
      "| RandomForestRegressor |         0.942046 | 0.0559993 | 0.236642 |\n",
      "+-----------------------+------------------+-----------+----------+\n",
      "| KNeighborsRegression  |         0.756765 | 0.235029  | 0.484798 |\n",
      "+-----------------------+------------------+-----------+----------+\n",
      "| SVM                   |         0.420741 | 0.559717  | 0.748142 |\n",
      "+-----------------------+------------------+-----------+----------+\n",
      "| Gradient Boosting     |         0.756765 | 0.0565244 | 0.237749 |\n",
      "+-----------------------+------------------+-----------+----------+\n"
     ]
    }
   ],
   "source": [
    "# model summary\n",
    "from tabulate import tabulate\n",
    "table = [[\"Model\",\"Accuarcy score\",\"MSE\",\"RMSE\"],\n",
    "         [\"LogisticRegression\",Accuracy_linear, mse_linear, rm_linear],\n",
    "         [\"LassoRegression\",Accuracy_lasso, mse_lasso, rm_lasso],\n",
    "         [\"RidgeRegression\",Accuracy_ridge, mse_ridge, rm_ridge],\n",
    "         [\"RandomForestRegressor\", Accuracy_rf, mse_rf, rm_rf],\n",
    "         [\"KNeighborsRegression\", Accuracy_knn, mse_knn, rm_knn],\n",
    "         [\"SVM\", Accuracy_svm, mse_svm, rm_svm],\n",
    "         [\"Gradient Boosting\",Accuracy_gradient, mse_gradient, rm_gradient ]\n",
    "    \n",
    "]\n",
    "\n",
    "print(tabulate(table, headers='firstrow', tablefmt='grid'))\n"
   ]
  },
  {
   "cell_type": "code",
   "execution_count": 128,
   "id": "63cee319",
   "metadata": {},
   "outputs": [],
   "source": [
    "# Gridsearch/hyperparameter\n",
    "from sklearn.model_selection import GridSearchCV"
   ]
  },
  {
   "cell_type": "code",
   "execution_count": 136,
   "id": "fdb326e2",
   "metadata": {},
   "outputs": [
    {
     "name": "stdout",
     "output_type": "stream",
     "text": [
      "Best Score:0.6467979116274651\n",
      "Best Parameters: {'n_neighbors': 23}\n"
     ]
    }
   ],
   "source": [
    "# Gridsearch for KNN\n",
    "param_grid = {\"n_neighbors\" : np.arange(1,30)}\n",
    "knn = KNeighborsRegressor()\n",
    "knn_cv= GridSearchCV(knn,param_grid,cv=5)\n",
    "knn_cv.fit(X,y)\n",
    "\n",
    "print(\"Best Score:\" + str(knn_cv.best_score_))\n",
    "print(\"Best Parameters: \" + str(knn_cv.best_params_))"
   ]
  },
  {
   "cell_type": "code",
   "execution_count": 148,
   "id": "d891d4b9",
   "metadata": {},
   "outputs": [
    {
     "ename": "ValueError",
     "evalue": "Invalid parameter n_neighbors for estimator RandomForestRegressor(). Check the list of available parameters with `estimator.get_params().keys()`.",
     "output_type": "error",
     "traceback": [
      "\u001b[1;31m---------------------------------------------------------------------------\u001b[0m",
      "\u001b[1;31mValueError\u001b[0m                                Traceback (most recent call last)",
      "\u001b[1;32m<ipython-input-148-5c20b15a9a96>\u001b[0m in \u001b[0;36m<module>\u001b[1;34m\u001b[0m\n\u001b[0;32m      9\u001b[0m \u001b[0mgs\u001b[0m \u001b[1;33m=\u001b[0m \u001b[0mGridSearchCV\u001b[0m\u001b[1;33m(\u001b[0m\u001b[0mestimator\u001b[0m\u001b[1;33m=\u001b[0m\u001b[0mgird_rf\u001b[0m\u001b[1;33m,\u001b[0m \u001b[0mparam_grid\u001b[0m\u001b[1;33m=\u001b[0m\u001b[0mparam_grid\u001b[0m\u001b[1;33m)\u001b[0m\u001b[1;33m\u001b[0m\u001b[1;33m\u001b[0m\u001b[0m\n\u001b[0;32m     10\u001b[0m \u001b[1;33m\u001b[0m\u001b[0m\n\u001b[1;32m---> 11\u001b[1;33m \u001b[0mgs\u001b[0m \u001b[1;33m=\u001b[0m \u001b[0mgs\u001b[0m\u001b[1;33m.\u001b[0m\u001b[0mfit\u001b[0m\u001b[1;33m(\u001b[0m\u001b[0mX_train\u001b[0m\u001b[1;33m,\u001b[0m \u001b[0my_train\u001b[0m\u001b[1;33m)\u001b[0m\u001b[1;33m\u001b[0m\u001b[1;33m\u001b[0m\u001b[0m\n\u001b[0m\u001b[0;32m     12\u001b[0m \u001b[1;33m\u001b[0m\u001b[0m\n\u001b[0;32m     13\u001b[0m \u001b[0mprint\u001b[0m\u001b[1;33m(\u001b[0m\u001b[0mgs\u001b[0m\u001b[1;33m.\u001b[0m\u001b[0mbest_estimator_\u001b[0m\u001b[1;33m)\u001b[0m\u001b[1;33m\u001b[0m\u001b[1;33m\u001b[0m\u001b[0m\n",
      "\u001b[1;32m~\\anaconda3\\lib\\site-packages\\sklearn\\utils\\validation.py\u001b[0m in \u001b[0;36minner_f\u001b[1;34m(*args, **kwargs)\u001b[0m\n\u001b[0;32m     61\u001b[0m             \u001b[0mextra_args\u001b[0m \u001b[1;33m=\u001b[0m \u001b[0mlen\u001b[0m\u001b[1;33m(\u001b[0m\u001b[0margs\u001b[0m\u001b[1;33m)\u001b[0m \u001b[1;33m-\u001b[0m \u001b[0mlen\u001b[0m\u001b[1;33m(\u001b[0m\u001b[0mall_args\u001b[0m\u001b[1;33m)\u001b[0m\u001b[1;33m\u001b[0m\u001b[1;33m\u001b[0m\u001b[0m\n\u001b[0;32m     62\u001b[0m             \u001b[1;32mif\u001b[0m \u001b[0mextra_args\u001b[0m \u001b[1;33m<=\u001b[0m \u001b[1;36m0\u001b[0m\u001b[1;33m:\u001b[0m\u001b[1;33m\u001b[0m\u001b[1;33m\u001b[0m\u001b[0m\n\u001b[1;32m---> 63\u001b[1;33m                 \u001b[1;32mreturn\u001b[0m \u001b[0mf\u001b[0m\u001b[1;33m(\u001b[0m\u001b[1;33m*\u001b[0m\u001b[0margs\u001b[0m\u001b[1;33m,\u001b[0m \u001b[1;33m**\u001b[0m\u001b[0mkwargs\u001b[0m\u001b[1;33m)\u001b[0m\u001b[1;33m\u001b[0m\u001b[1;33m\u001b[0m\u001b[0m\n\u001b[0m\u001b[0;32m     64\u001b[0m \u001b[1;33m\u001b[0m\u001b[0m\n\u001b[0;32m     65\u001b[0m             \u001b[1;31m# extra_args > 0\u001b[0m\u001b[1;33m\u001b[0m\u001b[1;33m\u001b[0m\u001b[1;33m\u001b[0m\u001b[0m\n",
      "\u001b[1;32m~\\anaconda3\\lib\\site-packages\\sklearn\\model_selection\\_search.py\u001b[0m in \u001b[0;36mfit\u001b[1;34m(self, X, y, groups, **fit_params)\u001b[0m\n\u001b[0;32m    839\u001b[0m                 \u001b[1;32mreturn\u001b[0m \u001b[0mresults\u001b[0m\u001b[1;33m\u001b[0m\u001b[1;33m\u001b[0m\u001b[0m\n\u001b[0;32m    840\u001b[0m \u001b[1;33m\u001b[0m\u001b[0m\n\u001b[1;32m--> 841\u001b[1;33m             \u001b[0mself\u001b[0m\u001b[1;33m.\u001b[0m\u001b[0m_run_search\u001b[0m\u001b[1;33m(\u001b[0m\u001b[0mevaluate_candidates\u001b[0m\u001b[1;33m)\u001b[0m\u001b[1;33m\u001b[0m\u001b[1;33m\u001b[0m\u001b[0m\n\u001b[0m\u001b[0;32m    842\u001b[0m \u001b[1;33m\u001b[0m\u001b[0m\n\u001b[0;32m    843\u001b[0m             \u001b[1;31m# multimetric is determined here because in the case of a callable\u001b[0m\u001b[1;33m\u001b[0m\u001b[1;33m\u001b[0m\u001b[1;33m\u001b[0m\u001b[0m\n",
      "\u001b[1;32m~\\anaconda3\\lib\\site-packages\\sklearn\\model_selection\\_search.py\u001b[0m in \u001b[0;36m_run_search\u001b[1;34m(self, evaluate_candidates)\u001b[0m\n\u001b[0;32m   1286\u001b[0m     \u001b[1;32mdef\u001b[0m \u001b[0m_run_search\u001b[0m\u001b[1;33m(\u001b[0m\u001b[0mself\u001b[0m\u001b[1;33m,\u001b[0m \u001b[0mevaluate_candidates\u001b[0m\u001b[1;33m)\u001b[0m\u001b[1;33m:\u001b[0m\u001b[1;33m\u001b[0m\u001b[1;33m\u001b[0m\u001b[0m\n\u001b[0;32m   1287\u001b[0m         \u001b[1;34m\"\"\"Search all candidates in param_grid\"\"\"\u001b[0m\u001b[1;33m\u001b[0m\u001b[1;33m\u001b[0m\u001b[0m\n\u001b[1;32m-> 1288\u001b[1;33m         \u001b[0mevaluate_candidates\u001b[0m\u001b[1;33m(\u001b[0m\u001b[0mParameterGrid\u001b[0m\u001b[1;33m(\u001b[0m\u001b[0mself\u001b[0m\u001b[1;33m.\u001b[0m\u001b[0mparam_grid\u001b[0m\u001b[1;33m)\u001b[0m\u001b[1;33m)\u001b[0m\u001b[1;33m\u001b[0m\u001b[1;33m\u001b[0m\u001b[0m\n\u001b[0m\u001b[0;32m   1289\u001b[0m \u001b[1;33m\u001b[0m\u001b[0m\n\u001b[0;32m   1290\u001b[0m \u001b[1;33m\u001b[0m\u001b[0m\n",
      "\u001b[1;32m~\\anaconda3\\lib\\site-packages\\sklearn\\model_selection\\_search.py\u001b[0m in \u001b[0;36mevaluate_candidates\u001b[1;34m(candidate_params, cv, more_results)\u001b[0m\n\u001b[0;32m    793\u001b[0m                               n_splits, n_candidates, n_candidates * n_splits))\n\u001b[0;32m    794\u001b[0m \u001b[1;33m\u001b[0m\u001b[0m\n\u001b[1;32m--> 795\u001b[1;33m                 out = parallel(delayed(_fit_and_score)(clone(base_estimator),\n\u001b[0m\u001b[0;32m    796\u001b[0m                                                        \u001b[0mX\u001b[0m\u001b[1;33m,\u001b[0m \u001b[0my\u001b[0m\u001b[1;33m,\u001b[0m\u001b[1;33m\u001b[0m\u001b[1;33m\u001b[0m\u001b[0m\n\u001b[0;32m    797\u001b[0m                                                        \u001b[0mtrain\u001b[0m\u001b[1;33m=\u001b[0m\u001b[0mtrain\u001b[0m\u001b[1;33m,\u001b[0m \u001b[0mtest\u001b[0m\u001b[1;33m=\u001b[0m\u001b[0mtest\u001b[0m\u001b[1;33m,\u001b[0m\u001b[1;33m\u001b[0m\u001b[1;33m\u001b[0m\u001b[0m\n",
      "\u001b[1;32m~\\anaconda3\\lib\\site-packages\\joblib\\parallel.py\u001b[0m in \u001b[0;36m__call__\u001b[1;34m(self, iterable)\u001b[0m\n\u001b[0;32m   1039\u001b[0m             \u001b[1;31m# remaining jobs.\u001b[0m\u001b[1;33m\u001b[0m\u001b[1;33m\u001b[0m\u001b[1;33m\u001b[0m\u001b[0m\n\u001b[0;32m   1040\u001b[0m             \u001b[0mself\u001b[0m\u001b[1;33m.\u001b[0m\u001b[0m_iterating\u001b[0m \u001b[1;33m=\u001b[0m \u001b[1;32mFalse\u001b[0m\u001b[1;33m\u001b[0m\u001b[1;33m\u001b[0m\u001b[0m\n\u001b[1;32m-> 1041\u001b[1;33m             \u001b[1;32mif\u001b[0m \u001b[0mself\u001b[0m\u001b[1;33m.\u001b[0m\u001b[0mdispatch_one_batch\u001b[0m\u001b[1;33m(\u001b[0m\u001b[0miterator\u001b[0m\u001b[1;33m)\u001b[0m\u001b[1;33m:\u001b[0m\u001b[1;33m\u001b[0m\u001b[1;33m\u001b[0m\u001b[0m\n\u001b[0m\u001b[0;32m   1042\u001b[0m                 \u001b[0mself\u001b[0m\u001b[1;33m.\u001b[0m\u001b[0m_iterating\u001b[0m \u001b[1;33m=\u001b[0m \u001b[0mself\u001b[0m\u001b[1;33m.\u001b[0m\u001b[0m_original_iterator\u001b[0m \u001b[1;32mis\u001b[0m \u001b[1;32mnot\u001b[0m \u001b[1;32mNone\u001b[0m\u001b[1;33m\u001b[0m\u001b[1;33m\u001b[0m\u001b[0m\n\u001b[0;32m   1043\u001b[0m \u001b[1;33m\u001b[0m\u001b[0m\n",
      "\u001b[1;32m~\\anaconda3\\lib\\site-packages\\joblib\\parallel.py\u001b[0m in \u001b[0;36mdispatch_one_batch\u001b[1;34m(self, iterator)\u001b[0m\n\u001b[0;32m    857\u001b[0m                 \u001b[1;32mreturn\u001b[0m \u001b[1;32mFalse\u001b[0m\u001b[1;33m\u001b[0m\u001b[1;33m\u001b[0m\u001b[0m\n\u001b[0;32m    858\u001b[0m             \u001b[1;32melse\u001b[0m\u001b[1;33m:\u001b[0m\u001b[1;33m\u001b[0m\u001b[1;33m\u001b[0m\u001b[0m\n\u001b[1;32m--> 859\u001b[1;33m                 \u001b[0mself\u001b[0m\u001b[1;33m.\u001b[0m\u001b[0m_dispatch\u001b[0m\u001b[1;33m(\u001b[0m\u001b[0mtasks\u001b[0m\u001b[1;33m)\u001b[0m\u001b[1;33m\u001b[0m\u001b[1;33m\u001b[0m\u001b[0m\n\u001b[0m\u001b[0;32m    860\u001b[0m                 \u001b[1;32mreturn\u001b[0m \u001b[1;32mTrue\u001b[0m\u001b[1;33m\u001b[0m\u001b[1;33m\u001b[0m\u001b[0m\n\u001b[0;32m    861\u001b[0m \u001b[1;33m\u001b[0m\u001b[0m\n",
      "\u001b[1;32m~\\anaconda3\\lib\\site-packages\\joblib\\parallel.py\u001b[0m in \u001b[0;36m_dispatch\u001b[1;34m(self, batch)\u001b[0m\n\u001b[0;32m    775\u001b[0m         \u001b[1;32mwith\u001b[0m \u001b[0mself\u001b[0m\u001b[1;33m.\u001b[0m\u001b[0m_lock\u001b[0m\u001b[1;33m:\u001b[0m\u001b[1;33m\u001b[0m\u001b[1;33m\u001b[0m\u001b[0m\n\u001b[0;32m    776\u001b[0m             \u001b[0mjob_idx\u001b[0m \u001b[1;33m=\u001b[0m \u001b[0mlen\u001b[0m\u001b[1;33m(\u001b[0m\u001b[0mself\u001b[0m\u001b[1;33m.\u001b[0m\u001b[0m_jobs\u001b[0m\u001b[1;33m)\u001b[0m\u001b[1;33m\u001b[0m\u001b[1;33m\u001b[0m\u001b[0m\n\u001b[1;32m--> 777\u001b[1;33m             \u001b[0mjob\u001b[0m \u001b[1;33m=\u001b[0m \u001b[0mself\u001b[0m\u001b[1;33m.\u001b[0m\u001b[0m_backend\u001b[0m\u001b[1;33m.\u001b[0m\u001b[0mapply_async\u001b[0m\u001b[1;33m(\u001b[0m\u001b[0mbatch\u001b[0m\u001b[1;33m,\u001b[0m \u001b[0mcallback\u001b[0m\u001b[1;33m=\u001b[0m\u001b[0mcb\u001b[0m\u001b[1;33m)\u001b[0m\u001b[1;33m\u001b[0m\u001b[1;33m\u001b[0m\u001b[0m\n\u001b[0m\u001b[0;32m    778\u001b[0m             \u001b[1;31m# A job can complete so quickly than its callback is\u001b[0m\u001b[1;33m\u001b[0m\u001b[1;33m\u001b[0m\u001b[1;33m\u001b[0m\u001b[0m\n\u001b[0;32m    779\u001b[0m             \u001b[1;31m# called before we get here, causing self._jobs to\u001b[0m\u001b[1;33m\u001b[0m\u001b[1;33m\u001b[0m\u001b[1;33m\u001b[0m\u001b[0m\n",
      "\u001b[1;32m~\\anaconda3\\lib\\site-packages\\joblib\\_parallel_backends.py\u001b[0m in \u001b[0;36mapply_async\u001b[1;34m(self, func, callback)\u001b[0m\n\u001b[0;32m    206\u001b[0m     \u001b[1;32mdef\u001b[0m \u001b[0mapply_async\u001b[0m\u001b[1;33m(\u001b[0m\u001b[0mself\u001b[0m\u001b[1;33m,\u001b[0m \u001b[0mfunc\u001b[0m\u001b[1;33m,\u001b[0m \u001b[0mcallback\u001b[0m\u001b[1;33m=\u001b[0m\u001b[1;32mNone\u001b[0m\u001b[1;33m)\u001b[0m\u001b[1;33m:\u001b[0m\u001b[1;33m\u001b[0m\u001b[1;33m\u001b[0m\u001b[0m\n\u001b[0;32m    207\u001b[0m         \u001b[1;34m\"\"\"Schedule a func to be run\"\"\"\u001b[0m\u001b[1;33m\u001b[0m\u001b[1;33m\u001b[0m\u001b[0m\n\u001b[1;32m--> 208\u001b[1;33m         \u001b[0mresult\u001b[0m \u001b[1;33m=\u001b[0m \u001b[0mImmediateResult\u001b[0m\u001b[1;33m(\u001b[0m\u001b[0mfunc\u001b[0m\u001b[1;33m)\u001b[0m\u001b[1;33m\u001b[0m\u001b[1;33m\u001b[0m\u001b[0m\n\u001b[0m\u001b[0;32m    209\u001b[0m         \u001b[1;32mif\u001b[0m \u001b[0mcallback\u001b[0m\u001b[1;33m:\u001b[0m\u001b[1;33m\u001b[0m\u001b[1;33m\u001b[0m\u001b[0m\n\u001b[0;32m    210\u001b[0m             \u001b[0mcallback\u001b[0m\u001b[1;33m(\u001b[0m\u001b[0mresult\u001b[0m\u001b[1;33m)\u001b[0m\u001b[1;33m\u001b[0m\u001b[1;33m\u001b[0m\u001b[0m\n",
      "\u001b[1;32m~\\anaconda3\\lib\\site-packages\\joblib\\_parallel_backends.py\u001b[0m in \u001b[0;36m__init__\u001b[1;34m(self, batch)\u001b[0m\n\u001b[0;32m    570\u001b[0m         \u001b[1;31m# Don't delay the application, to avoid keeping the input\u001b[0m\u001b[1;33m\u001b[0m\u001b[1;33m\u001b[0m\u001b[1;33m\u001b[0m\u001b[0m\n\u001b[0;32m    571\u001b[0m         \u001b[1;31m# arguments in memory\u001b[0m\u001b[1;33m\u001b[0m\u001b[1;33m\u001b[0m\u001b[1;33m\u001b[0m\u001b[0m\n\u001b[1;32m--> 572\u001b[1;33m         \u001b[0mself\u001b[0m\u001b[1;33m.\u001b[0m\u001b[0mresults\u001b[0m \u001b[1;33m=\u001b[0m \u001b[0mbatch\u001b[0m\u001b[1;33m(\u001b[0m\u001b[1;33m)\u001b[0m\u001b[1;33m\u001b[0m\u001b[1;33m\u001b[0m\u001b[0m\n\u001b[0m\u001b[0;32m    573\u001b[0m \u001b[1;33m\u001b[0m\u001b[0m\n\u001b[0;32m    574\u001b[0m     \u001b[1;32mdef\u001b[0m \u001b[0mget\u001b[0m\u001b[1;33m(\u001b[0m\u001b[0mself\u001b[0m\u001b[1;33m)\u001b[0m\u001b[1;33m:\u001b[0m\u001b[1;33m\u001b[0m\u001b[1;33m\u001b[0m\u001b[0m\n",
      "\u001b[1;32m~\\anaconda3\\lib\\site-packages\\joblib\\parallel.py\u001b[0m in \u001b[0;36m__call__\u001b[1;34m(self)\u001b[0m\n\u001b[0;32m    260\u001b[0m         \u001b[1;31m# change the default number of processes to -1\u001b[0m\u001b[1;33m\u001b[0m\u001b[1;33m\u001b[0m\u001b[1;33m\u001b[0m\u001b[0m\n\u001b[0;32m    261\u001b[0m         \u001b[1;32mwith\u001b[0m \u001b[0mparallel_backend\u001b[0m\u001b[1;33m(\u001b[0m\u001b[0mself\u001b[0m\u001b[1;33m.\u001b[0m\u001b[0m_backend\u001b[0m\u001b[1;33m,\u001b[0m \u001b[0mn_jobs\u001b[0m\u001b[1;33m=\u001b[0m\u001b[0mself\u001b[0m\u001b[1;33m.\u001b[0m\u001b[0m_n_jobs\u001b[0m\u001b[1;33m)\u001b[0m\u001b[1;33m:\u001b[0m\u001b[1;33m\u001b[0m\u001b[1;33m\u001b[0m\u001b[0m\n\u001b[1;32m--> 262\u001b[1;33m             return [func(*args, **kwargs)\n\u001b[0m\u001b[0;32m    263\u001b[0m                     for func, args, kwargs in self.items]\n\u001b[0;32m    264\u001b[0m \u001b[1;33m\u001b[0m\u001b[0m\n",
      "\u001b[1;32m~\\anaconda3\\lib\\site-packages\\joblib\\parallel.py\u001b[0m in \u001b[0;36m<listcomp>\u001b[1;34m(.0)\u001b[0m\n\u001b[0;32m    260\u001b[0m         \u001b[1;31m# change the default number of processes to -1\u001b[0m\u001b[1;33m\u001b[0m\u001b[1;33m\u001b[0m\u001b[1;33m\u001b[0m\u001b[0m\n\u001b[0;32m    261\u001b[0m         \u001b[1;32mwith\u001b[0m \u001b[0mparallel_backend\u001b[0m\u001b[1;33m(\u001b[0m\u001b[0mself\u001b[0m\u001b[1;33m.\u001b[0m\u001b[0m_backend\u001b[0m\u001b[1;33m,\u001b[0m \u001b[0mn_jobs\u001b[0m\u001b[1;33m=\u001b[0m\u001b[0mself\u001b[0m\u001b[1;33m.\u001b[0m\u001b[0m_n_jobs\u001b[0m\u001b[1;33m)\u001b[0m\u001b[1;33m:\u001b[0m\u001b[1;33m\u001b[0m\u001b[1;33m\u001b[0m\u001b[0m\n\u001b[1;32m--> 262\u001b[1;33m             return [func(*args, **kwargs)\n\u001b[0m\u001b[0;32m    263\u001b[0m                     for func, args, kwargs in self.items]\n\u001b[0;32m    264\u001b[0m \u001b[1;33m\u001b[0m\u001b[0m\n",
      "\u001b[1;32m~\\anaconda3\\lib\\site-packages\\sklearn\\utils\\fixes.py\u001b[0m in \u001b[0;36m__call__\u001b[1;34m(self, *args, **kwargs)\u001b[0m\n\u001b[0;32m    220\u001b[0m     \u001b[1;32mdef\u001b[0m \u001b[0m__call__\u001b[0m\u001b[1;33m(\u001b[0m\u001b[0mself\u001b[0m\u001b[1;33m,\u001b[0m \u001b[1;33m*\u001b[0m\u001b[0margs\u001b[0m\u001b[1;33m,\u001b[0m \u001b[1;33m**\u001b[0m\u001b[0mkwargs\u001b[0m\u001b[1;33m)\u001b[0m\u001b[1;33m:\u001b[0m\u001b[1;33m\u001b[0m\u001b[1;33m\u001b[0m\u001b[0m\n\u001b[0;32m    221\u001b[0m         \u001b[1;32mwith\u001b[0m \u001b[0mconfig_context\u001b[0m\u001b[1;33m(\u001b[0m\u001b[1;33m**\u001b[0m\u001b[0mself\u001b[0m\u001b[1;33m.\u001b[0m\u001b[0mconfig\u001b[0m\u001b[1;33m)\u001b[0m\u001b[1;33m:\u001b[0m\u001b[1;33m\u001b[0m\u001b[1;33m\u001b[0m\u001b[0m\n\u001b[1;32m--> 222\u001b[1;33m             \u001b[1;32mreturn\u001b[0m \u001b[0mself\u001b[0m\u001b[1;33m.\u001b[0m\u001b[0mfunction\u001b[0m\u001b[1;33m(\u001b[0m\u001b[1;33m*\u001b[0m\u001b[0margs\u001b[0m\u001b[1;33m,\u001b[0m \u001b[1;33m**\u001b[0m\u001b[0mkwargs\u001b[0m\u001b[1;33m)\u001b[0m\u001b[1;33m\u001b[0m\u001b[1;33m\u001b[0m\u001b[0m\n\u001b[0m",
      "\u001b[1;32m~\\anaconda3\\lib\\site-packages\\sklearn\\model_selection\\_validation.py\u001b[0m in \u001b[0;36m_fit_and_score\u001b[1;34m(estimator, X, y, scorer, train, test, verbose, parameters, fit_params, return_train_score, return_parameters, return_n_test_samples, return_times, return_estimator, split_progress, candidate_progress, error_score)\u001b[0m\n\u001b[0;32m    579\u001b[0m             \u001b[0mcloned_parameters\u001b[0m\u001b[1;33m[\u001b[0m\u001b[0mk\u001b[0m\u001b[1;33m]\u001b[0m \u001b[1;33m=\u001b[0m \u001b[0mclone\u001b[0m\u001b[1;33m(\u001b[0m\u001b[0mv\u001b[0m\u001b[1;33m,\u001b[0m \u001b[0msafe\u001b[0m\u001b[1;33m=\u001b[0m\u001b[1;32mFalse\u001b[0m\u001b[1;33m)\u001b[0m\u001b[1;33m\u001b[0m\u001b[1;33m\u001b[0m\u001b[0m\n\u001b[0;32m    580\u001b[0m \u001b[1;33m\u001b[0m\u001b[0m\n\u001b[1;32m--> 581\u001b[1;33m         \u001b[0mestimator\u001b[0m \u001b[1;33m=\u001b[0m \u001b[0mestimator\u001b[0m\u001b[1;33m.\u001b[0m\u001b[0mset_params\u001b[0m\u001b[1;33m(\u001b[0m\u001b[1;33m**\u001b[0m\u001b[0mcloned_parameters\u001b[0m\u001b[1;33m)\u001b[0m\u001b[1;33m\u001b[0m\u001b[1;33m\u001b[0m\u001b[0m\n\u001b[0m\u001b[0;32m    582\u001b[0m \u001b[1;33m\u001b[0m\u001b[0m\n\u001b[0;32m    583\u001b[0m     \u001b[0mstart_time\u001b[0m \u001b[1;33m=\u001b[0m \u001b[0mtime\u001b[0m\u001b[1;33m.\u001b[0m\u001b[0mtime\u001b[0m\u001b[1;33m(\u001b[0m\u001b[1;33m)\u001b[0m\u001b[1;33m\u001b[0m\u001b[1;33m\u001b[0m\u001b[0m\n",
      "\u001b[1;32m~\\anaconda3\\lib\\site-packages\\sklearn\\base.py\u001b[0m in \u001b[0;36mset_params\u001b[1;34m(self, **params)\u001b[0m\n\u001b[0;32m    228\u001b[0m             \u001b[0mkey\u001b[0m\u001b[1;33m,\u001b[0m \u001b[0mdelim\u001b[0m\u001b[1;33m,\u001b[0m \u001b[0msub_key\u001b[0m \u001b[1;33m=\u001b[0m \u001b[0mkey\u001b[0m\u001b[1;33m.\u001b[0m\u001b[0mpartition\u001b[0m\u001b[1;33m(\u001b[0m\u001b[1;34m'__'\u001b[0m\u001b[1;33m)\u001b[0m\u001b[1;33m\u001b[0m\u001b[1;33m\u001b[0m\u001b[0m\n\u001b[0;32m    229\u001b[0m             \u001b[1;32mif\u001b[0m \u001b[0mkey\u001b[0m \u001b[1;32mnot\u001b[0m \u001b[1;32min\u001b[0m \u001b[0mvalid_params\u001b[0m\u001b[1;33m:\u001b[0m\u001b[1;33m\u001b[0m\u001b[1;33m\u001b[0m\u001b[0m\n\u001b[1;32m--> 230\u001b[1;33m                 raise ValueError('Invalid parameter %s for estimator %s. '\n\u001b[0m\u001b[0;32m    231\u001b[0m                                  \u001b[1;34m'Check the list of available parameters '\u001b[0m\u001b[1;33m\u001b[0m\u001b[1;33m\u001b[0m\u001b[0m\n\u001b[0;32m    232\u001b[0m                                  \u001b[1;34m'with `estimator.get_params().keys()`.'\u001b[0m \u001b[1;33m%\u001b[0m\u001b[1;33m\u001b[0m\u001b[1;33m\u001b[0m\u001b[0m\n",
      "\u001b[1;31mValueError\u001b[0m: Invalid parameter n_neighbors for estimator RandomForestRegressor(). Check the list of available parameters with `estimator.get_params().keys()`."
     ]
    }
   ],
   "source": [
    "# Gridsearch for RandomFroest\n",
    "gird_rf = RandomForestRegressor()\n",
    "gird_rf.fit(X,y)\n",
    "param_gird = {\"criterion\" : [\"squared_error\", \"absolute_error\",\"poisson\"], \n",
    "              \"max_features\" : [\"auto\", \"sqrt\", \"log2\"],\n",
    "              \"min_samples_split\" : [2, 4, 8, 16],\n",
    "              \"n_estimators\" : [10, 50, 150]}\n",
    "\n",
    "gs = GridSearchCV(estimator=gird_rf, param_grid=param_grid)\n",
    "\n",
    "gs = gs.fit(X_train, y_train)\n",
    "\n",
    "print(gs.best_estimator_) \n",
    "print(gs.best_score_)"
   ]
  },
  {
   "cell_type": "code",
   "execution_count": null,
   "id": "e92674be",
   "metadata": {},
   "outputs": [],
   "source": []
  }
 ],
 "metadata": {
  "kernelspec": {
   "display_name": "Python 3",
   "language": "python",
   "name": "python3"
  },
  "language_info": {
   "codemirror_mode": {
    "name": "ipython",
    "version": 3
   },
   "file_extension": ".py",
   "mimetype": "text/x-python",
   "name": "python",
   "nbconvert_exporter": "python",
   "pygments_lexer": "ipython3",
   "version": "3.8.8"
  }
 },
 "nbformat": 4,
 "nbformat_minor": 5
}
