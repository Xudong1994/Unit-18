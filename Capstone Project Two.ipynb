{
 "cells": [
  {
   "cell_type": "markdown",
   "id": "403a580e",
   "metadata": {},
   "source": [
    "# Capstone Project Two : Springboard Data Science career track"
   ]
  },
  {
   "cell_type": "markdown",
   "id": "9b7d65fd",
   "metadata": {},
   "source": [
    "## 1. Project description"
   ]
  },
  {
   "cell_type": "markdown",
   "id": "0db17512",
   "metadata": {},
   "source": [
    "The continued expansion of the mobile phone market is inevitable. In the case of mixed mobile phone parameters, this project hopes to predict the price of mobile phones by establishing a model between mobile phone prices and various parameters. The purpose of this project is to determine the model that is easiest to predict the price of a mobile phone, and the parameters that have the greatest impact on the price of a mobile phone under this model. This is a regression problem. "
   ]
  },
  {
   "cell_type": "markdown",
   "id": "ed87573a",
   "metadata": {},
   "source": [
    "## 2. About the data"
   ]
  },
  {
   "cell_type": "markdown",
   "id": "0ad8f852",
   "metadata": {},
   "source": [
    "\n",
    "The dataset used in this project are all provided by Kaggle. This data is about the selling price and parameter information of Android phone. The main parameters are memory, running speed, mobile phone screen size and resolution, weight and so on. In this project, the price of the mobile phone will be the dependent variable, and other parameters will be the independent variable.The Nan item has been covered in preliminary processing of the data. Since there are too many categories in the catagorical variable, only the numerical variable in the dataset will be used in the prediction model. \n",
    "\n",
    "* Mobile_price \t     the price of mobile phone\n",
    "* Dual_sim  \t        can contain two sim card or not\n",
    "* Resolution_multiply   screen resolution product of horizontal and vertical pixels\n",
    "* Num_cores\t        the core number of processor\n",
    "* Mp_speed           measure of the speed of your CPU processing Unit: megabytes per second\n",
    "* Int_memory \t        Mobile phone internal data storage capacity\n",
    "* Ram \t           Random Access Memory\n",
    "* Battery_power \t     Mobile phone battery capacity\n",
    "* Mob_width \t        the width of mobile phone\n",
    "* Mob_height\t        the height of mobile phone\n",
    "* Mob_depth\t        the depth of mobile phone\n",
    "* Disp_size_cm \t\t   the diagonally of mobile phone screen "
   ]
  },
  {
   "cell_type": "markdown",
   "id": "1c82ec35",
   "metadata": {},
   "source": [
    "## 3.What do we intereted in?"
   ]
  },
  {
   "cell_type": "markdown",
   "id": "7c59678a",
   "metadata": {},
   "source": [
    "* Which model has the best performance?\n",
    "* Which festures is the most important for the mobile price?"
   ]
  },
  {
   "cell_type": "markdown",
   "id": "b39a0140",
   "metadata": {},
   "source": [
    "## 4.Import necessary function"
   ]
  },
  {
   "cell_type": "code",
   "execution_count": 1,
   "id": "36a1a1fb",
   "metadata": {},
   "outputs": [],
   "source": [
    "# import necessary library\n",
    "\n",
    "import pandas as pd \n",
    "import numpy as np\n",
    "import seaborn as sns\n",
    "from matplotlib  import pyplot as plt \n",
    "from sklearn.preprocessing import StandardScaler\n",
    "from sklearn.model_selection import train_test_split\n",
    "from sklearn.metrics import confusion_matrix\n",
    "from sklearn.metrics import classification_report\n",
    "from sklearn.metrics import mean_squared_error"
   ]
  },
  {
   "cell_type": "code",
   "execution_count": 2,
   "id": "8d365619",
   "metadata": {},
   "outputs": [],
   "source": [
    "# Read dataset\n",
    "\n",
    "df = pd.read_csv(\"E:/springboard/unit 18/df_cleaned.csv\",index_col = 0)"
   ]
  },
  {
   "cell_type": "code",
   "execution_count": 3,
   "id": "a73df124",
   "metadata": {},
   "outputs": [
    {
     "data": {
      "text/html": [
       "<div>\n",
       "<style scoped>\n",
       "    .dataframe tbody tr th:only-of-type {\n",
       "        vertical-align: middle;\n",
       "    }\n",
       "\n",
       "    .dataframe tbody tr th {\n",
       "        vertical-align: top;\n",
       "    }\n",
       "\n",
       "    .dataframe thead th {\n",
       "        text-align: right;\n",
       "    }\n",
       "</style>\n",
       "<table border=\"1\" class=\"dataframe\">\n",
       "  <thead>\n",
       "    <tr style=\"text-align: right;\">\n",
       "      <th></th>\n",
       "      <th>mobile_price</th>\n",
       "      <th>resolution_multiply</th>\n",
       "      <th>mp_speed</th>\n",
       "      <th>int_memory</th>\n",
       "      <th>ram</th>\n",
       "      <th>battery_power</th>\n",
       "      <th>mob_width</th>\n",
       "      <th>mob_height</th>\n",
       "      <th>mob_depth</th>\n",
       "      <th>mob_weight</th>\n",
       "      <th>disp_size_cm</th>\n",
       "    </tr>\n",
       "  </thead>\n",
       "  <tbody>\n",
       "    <tr>\n",
       "      <th>0</th>\n",
       "      <td>8999</td>\n",
       "      <td>1152000</td>\n",
       "      <td>2.0</td>\n",
       "      <td>32</td>\n",
       "      <td>3</td>\n",
       "      <td>5000</td>\n",
       "      <td>75.0</td>\n",
       "      <td>164.4</td>\n",
       "      <td>8.95</td>\n",
       "      <td>195.0</td>\n",
       "      <td>16.56</td>\n",
       "    </tr>\n",
       "    <tr>\n",
       "      <th>1</th>\n",
       "      <td>8999</td>\n",
       "      <td>1152000</td>\n",
       "      <td>2.0</td>\n",
       "      <td>32</td>\n",
       "      <td>3</td>\n",
       "      <td>5000</td>\n",
       "      <td>75.0</td>\n",
       "      <td>164.4</td>\n",
       "      <td>8.95</td>\n",
       "      <td>195.0</td>\n",
       "      <td>16.56</td>\n",
       "    </tr>\n",
       "    <tr>\n",
       "      <th>2</th>\n",
       "      <td>9999</td>\n",
       "      <td>1152000</td>\n",
       "      <td>2.0</td>\n",
       "      <td>64</td>\n",
       "      <td>4</td>\n",
       "      <td>5000</td>\n",
       "      <td>75.0</td>\n",
       "      <td>164.4</td>\n",
       "      <td>8.95</td>\n",
       "      <td>195.0</td>\n",
       "      <td>16.56</td>\n",
       "    </tr>\n",
       "    <tr>\n",
       "      <th>3</th>\n",
       "      <td>9999</td>\n",
       "      <td>1152000</td>\n",
       "      <td>2.0</td>\n",
       "      <td>64</td>\n",
       "      <td>4</td>\n",
       "      <td>5000</td>\n",
       "      <td>75.0</td>\n",
       "      <td>164.4</td>\n",
       "      <td>8.95</td>\n",
       "      <td>195.0</td>\n",
       "      <td>16.56</td>\n",
       "    </tr>\n",
       "    <tr>\n",
       "      <th>4</th>\n",
       "      <td>11999</td>\n",
       "      <td>1152000</td>\n",
       "      <td>2.0</td>\n",
       "      <td>128</td>\n",
       "      <td>4</td>\n",
       "      <td>5000</td>\n",
       "      <td>75.4</td>\n",
       "      <td>164.4</td>\n",
       "      <td>9.00</td>\n",
       "      <td>199.0</td>\n",
       "      <td>16.51</td>\n",
       "    </tr>\n",
       "    <tr>\n",
       "      <th>...</th>\n",
       "      <td>...</td>\n",
       "      <td>...</td>\n",
       "      <td>...</td>\n",
       "      <td>...</td>\n",
       "      <td>...</td>\n",
       "      <td>...</td>\n",
       "      <td>...</td>\n",
       "      <td>...</td>\n",
       "      <td>...</td>\n",
       "      <td>...</td>\n",
       "      <td>...</td>\n",
       "    </tr>\n",
       "    <tr>\n",
       "      <th>454</th>\n",
       "      <td>13490</td>\n",
       "      <td>1036800</td>\n",
       "      <td>2.5</td>\n",
       "      <td>32</td>\n",
       "      <td>3</td>\n",
       "      <td>3180</td>\n",
       "      <td>73.1</td>\n",
       "      <td>150.5</td>\n",
       "      <td>7.70</td>\n",
       "      <td>143.0</td>\n",
       "      <td>14.48</td>\n",
       "    </tr>\n",
       "    <tr>\n",
       "      <th>455</th>\n",
       "      <td>9490</td>\n",
       "      <td>1036800</td>\n",
       "      <td>2.5</td>\n",
       "      <td>16</td>\n",
       "      <td>2</td>\n",
       "      <td>3180</td>\n",
       "      <td>73.1</td>\n",
       "      <td>150.5</td>\n",
       "      <td>7.70</td>\n",
       "      <td>143.0</td>\n",
       "      <td>14.48</td>\n",
       "    </tr>\n",
       "    <tr>\n",
       "      <th>456</th>\n",
       "      <td>22990</td>\n",
       "      <td>2462400</td>\n",
       "      <td>2.0</td>\n",
       "      <td>64</td>\n",
       "      <td>4</td>\n",
       "      <td>3400</td>\n",
       "      <td>75.3</td>\n",
       "      <td>156.0</td>\n",
       "      <td>7.80</td>\n",
       "      <td>158.0</td>\n",
       "      <td>15.82</td>\n",
       "    </tr>\n",
       "    <tr>\n",
       "      <th>457</th>\n",
       "      <td>13990</td>\n",
       "      <td>2527200</td>\n",
       "      <td>2.1</td>\n",
       "      <td>128</td>\n",
       "      <td>4</td>\n",
       "      <td>4020</td>\n",
       "      <td>76.1</td>\n",
       "      <td>162.0</td>\n",
       "      <td>8.30</td>\n",
       "      <td>188.0</td>\n",
       "      <td>16.59</td>\n",
       "    </tr>\n",
       "    <tr>\n",
       "      <th>458</th>\n",
       "      <td>13990</td>\n",
       "      <td>2527200</td>\n",
       "      <td>2.1</td>\n",
       "      <td>128</td>\n",
       "      <td>4</td>\n",
       "      <td>4020</td>\n",
       "      <td>76.1</td>\n",
       "      <td>162.0</td>\n",
       "      <td>8.30</td>\n",
       "      <td>188.0</td>\n",
       "      <td>16.59</td>\n",
       "    </tr>\n",
       "  </tbody>\n",
       "</table>\n",
       "<p>459 rows × 11 columns</p>\n",
       "</div>"
      ],
      "text/plain": [
       "     mobile_price  resolution_multiply  mp_speed  int_memory  ram  \\\n",
       "0            8999              1152000       2.0          32    3   \n",
       "1            8999              1152000       2.0          32    3   \n",
       "2            9999              1152000       2.0          64    4   \n",
       "3            9999              1152000       2.0          64    4   \n",
       "4           11999              1152000       2.0         128    4   \n",
       "..            ...                  ...       ...         ...  ...   \n",
       "454         13490              1036800       2.5          32    3   \n",
       "455          9490              1036800       2.5          16    2   \n",
       "456         22990              2462400       2.0          64    4   \n",
       "457         13990              2527200       2.1         128    4   \n",
       "458         13990              2527200       2.1         128    4   \n",
       "\n",
       "     battery_power  mob_width  mob_height  mob_depth  mob_weight  disp_size_cm  \n",
       "0             5000       75.0       164.4       8.95       195.0         16.56  \n",
       "1             5000       75.0       164.4       8.95       195.0         16.56  \n",
       "2             5000       75.0       164.4       8.95       195.0         16.56  \n",
       "3             5000       75.0       164.4       8.95       195.0         16.56  \n",
       "4             5000       75.4       164.4       9.00       199.0         16.51  \n",
       "..             ...        ...         ...        ...         ...           ...  \n",
       "454           3180       73.1       150.5       7.70       143.0         14.48  \n",
       "455           3180       73.1       150.5       7.70       143.0         14.48  \n",
       "456           3400       75.3       156.0       7.80       158.0         15.82  \n",
       "457           4020       76.1       162.0       8.30       188.0         16.59  \n",
       "458           4020       76.1       162.0       8.30       188.0         16.59  \n",
       "\n",
       "[459 rows x 11 columns]"
      ]
     },
     "execution_count": 3,
     "metadata": {},
     "output_type": "execute_result"
    }
   ],
   "source": [
    "df"
   ]
  },
  {
   "cell_type": "code",
   "execution_count": 4,
   "id": "9a181edb",
   "metadata": {},
   "outputs": [],
   "source": [
    "features = list(df.columns)\n",
    "del features[0]"
   ]
  },
  {
   "cell_type": "code",
   "execution_count": 5,
   "id": "c09b9616",
   "metadata": {},
   "outputs": [],
   "source": [
    "# Define X,y\n",
    "\n",
    "X = df[features]\n",
    "y = df[\"mobile_price\"]"
   ]
  },
  {
   "cell_type": "code",
   "execution_count": 6,
   "id": "3d00239d",
   "metadata": {},
   "outputs": [
    {
     "name": "stdout",
     "output_type": "stream",
     "text": [
      "     resolution_multiply  mp_speed  int_memory  ram  battery_power  mob_width  \\\n",
      "0                1152000       2.0          32    3           5000       75.0   \n",
      "1                1152000       2.0          32    3           5000       75.0   \n",
      "2                1152000       2.0          64    4           5000       75.0   \n",
      "3                1152000       2.0          64    4           5000       75.0   \n",
      "4                1152000       2.0         128    4           5000       75.4   \n",
      "..                   ...       ...         ...  ...            ...        ...   \n",
      "454              1036800       2.5          32    3           3180       73.1   \n",
      "455              1036800       2.5          16    2           3180       73.1   \n",
      "456              2462400       2.0          64    4           3400       75.3   \n",
      "457              2527200       2.1         128    4           4020       76.1   \n",
      "458              2527200       2.1         128    4           4020       76.1   \n",
      "\n",
      "     mob_height  mob_depth  mob_weight  disp_size_cm  \n",
      "0         164.4       8.95       195.0         16.56  \n",
      "1         164.4       8.95       195.0         16.56  \n",
      "2         164.4       8.95       195.0         16.56  \n",
      "3         164.4       8.95       195.0         16.56  \n",
      "4         164.4       9.00       199.0         16.51  \n",
      "..          ...        ...         ...           ...  \n",
      "454       150.5       7.70       143.0         14.48  \n",
      "455       150.5       7.70       143.0         14.48  \n",
      "456       156.0       7.80       158.0         15.82  \n",
      "457       162.0       8.30       188.0         16.59  \n",
      "458       162.0       8.30       188.0         16.59  \n",
      "\n",
      "[459 rows x 10 columns]\n"
     ]
    }
   ],
   "source": [
    "print(X)"
   ]
  },
  {
   "cell_type": "markdown",
   "id": "de5fbf84",
   "metadata": {},
   "source": [
    "## 5. Training the data with different model"
   ]
  },
  {
   "cell_type": "code",
   "execution_count": 7,
   "id": "44f028e7",
   "metadata": {},
   "outputs": [],
   "source": [
    "# Split X_train, X_test, y_train, y_test\n",
    "\n",
    "X_train, X_test, y_train, y_test = train_test_split(X,y, test_size=0.25, random_state=42)"
   ]
  },
  {
   "cell_type": "code",
   "execution_count": 8,
   "id": "47442e79",
   "metadata": {},
   "outputs": [],
   "source": [
    "from sklearn.preprocessing import MinMaxScaler\n",
    "scaler_x = MinMaxScaler((-1,1))\n",
    "X_train = scaler_x.fit_transform(X_train)\n",
    "X_test = scaler_x.transform(X_test)"
   ]
  },
  {
   "cell_type": "code",
   "execution_count": 9,
   "id": "cde0d81f",
   "metadata": {},
   "outputs": [],
   "source": [
    "def rmse(prediction, actual):\n",
    "    return np.sqrt(((prediction - actual) ** 2).mean())"
   ]
  },
  {
   "cell_type": "code",
   "execution_count": 10,
   "id": "69ba1253",
   "metadata": {},
   "outputs": [
    {
     "name": "stdout",
     "output_type": "stream",
     "text": [
      "The LogisticRegression model accuarcy score is 0.698\n",
      "The mean squared error is 22049177.487\n",
      "The root mean square error is 4695.655\n"
     ]
    }
   ],
   "source": [
    "# LinearRegression\n",
    "\n",
    "from sklearn.linear_model import LinearRegression\n",
    "\n",
    "Linear = LinearRegression()\n",
    "Linear.fit(X_train,y_train)\n",
    "y_predict_linear = Linear.predict(X_test)\n",
    "Accuracy_linear = Linear.score(X_test,y_test)\n",
    "print(\"The LogisticRegression model accuarcy score is \" + str(round(Accuracy_linear,3)))\n",
    "\n",
    "mse_linear = mean_squared_error(y_test,y_predict_linear)\n",
    "print(\"The mean squared error is \" + str(round(mse_linear,3)))\n",
    "\n",
    "rm_linear = rmse(y_test,y_predict_linear)\n",
    "print(\"The root mean square error is \" + str(round(rm_linear,3)))"
   ]
  },
  {
   "cell_type": "code",
   "execution_count": 11,
   "id": "ebe24b15",
   "metadata": {},
   "outputs": [
    {
     "name": "stdout",
     "output_type": "stream",
     "text": [
      "The lasso intercept of this model is 29562.97\n",
      "The LassoRegression accuarcy score is 0.698\n",
      "The mean squared error is 22046334.44\n",
      "The root mean quare error is 4695.352\n"
     ]
    }
   ],
   "source": [
    "# LassoRegression\n",
    "\n",
    "from sklearn import linear_model\n",
    "\n",
    "lasso = linear_model.Lasso(alpha=0.1)\n",
    "lasso.fit(X_train,y_train)\n",
    "y_predict_lasso = lasso.predict(X_test)\n",
    "print(\"The lasso intercept of this model is \" + str(round(lasso.intercept_,3)))\n",
    "\n",
    "Accuracy_lasso = lasso.score(X_test,y_test)\n",
    "print(\"The LassoRegression accuarcy score is \" + str(round(Accuracy_lasso,3)))\n",
    "\n",
    "mse_lasso = mean_squared_error(y_test,y_predict_lasso)\n",
    "print(\"The mean squared error is \" + str(round(mse_lasso,3)))\n",
    "\n",
    "rm_lasso = rmse(y_test,y_predict_lasso)\n",
    "print(\"The root mean quare error is \" + str(round(rm_lasso,3)))\n",
    "\n"
   ]
  },
  {
   "cell_type": "code",
   "execution_count": 12,
   "id": "47c57881",
   "metadata": {},
   "outputs": [
    {
     "name": "stdout",
     "output_type": "stream",
     "text": [
      "The RidgeRgression model score is 0.695\n",
      "The mean squared error is 22244427.356\n",
      "The root mean square error is 4716.4\n"
     ]
    },
    {
     "name": "stderr",
     "output_type": "stream",
     "text": [
      "C:\\Users\\lv164\\anaconda3\\lib\\site-packages\\sklearn\\linear_model\\_base.py:148: FutureWarning: 'normalize' was deprecated in version 1.0 and will be removed in 1.2. Please leave the normalize parameter to its default value to silence this warning. The default behavior of this estimator is to not do any normalization. If normalization is needed please use sklearn.preprocessing.StandardScaler instead.\n",
      "  warnings.warn(\n"
     ]
    }
   ],
   "source": [
    "# RidgeRegression\n",
    "\n",
    "from sklearn.linear_model import Ridge\n",
    "# training model with 0.5 alpha value\n",
    "ridge = Ridge(alpha = 1.0, normalize = False, tol = 0.001,solver ='auto', random_state = 42)\n",
    "ridge.fit(X_train, y_train)\n",
    "  \n",
    "y_predict_ridge = ridge.predict(X_test)\n",
    "  \n",
    "Accuracy_ridge = ridge.score(X_test, y_test)\n",
    "print(\"The RidgeRgression model score is \" + str(round(Accuracy_ridge,3)))\n",
    "\n",
    "mse_ridge = mean_squared_error(y_test,y_predict_ridge)\n",
    "print(\"The mean squared error is \" + str(round(mse_ridge,3)))\n",
    "\n",
    "rm_ridge = rmse(y_test,y_predict_ridge)\n",
    "print(\"The root mean square error is \" + str(round(rm_ridge,3)))"
   ]
  },
  {
   "cell_type": "code",
   "execution_count": 13,
   "id": "c02e98c8",
   "metadata": {},
   "outputs": [
    {
     "name": "stdout",
     "output_type": "stream",
     "text": [
      "The RandomForestRegression model accuracy score is 0.947\n",
      "The mean squared error is 3872115.67\n",
      "The root-mean-square error is 1967.769\n"
     ]
    }
   ],
   "source": [
    "# RandomForestRegressor\n",
    "\n",
    "from sklearn.ensemble import RandomForestRegressor\n",
    "\n",
    "randomforest = RandomForestRegressor()\n",
    "randomforest.fit(X_train, y_train)\n",
    "\n",
    "y_predict_rf = randomforest.predict(X_test)\n",
    "Accuracy_rf = randomforest.score(X_test,y_test)\n",
    "print(\"The RandomForestRegression model accuracy score is \" + str(round(Accuracy_rf,3)))\n",
    "\n",
    "mse_rf = mean_squared_error(y_test,y_predict_rf)\n",
    "print(\"The mean squared error is \" + str(round(mse_rf,3)))\n",
    "\n",
    "rm_rf = rmse(y_test,y_predict_rf)\n",
    "print(\"The root-mean-square error is \" + str(round(rm_rf,3)))"
   ]
  },
  {
   "cell_type": "code",
   "execution_count": 14,
   "id": "d5f0c0f7",
   "metadata": {},
   "outputs": [
    {
     "name": "stdout",
     "output_type": "stream",
     "text": [
      "The KNeighborsRegression model accuracy score is 0.758\n",
      "The mean squared error is 17667454.663\n",
      "The root mean square error is 4203.267\n"
     ]
    }
   ],
   "source": [
    "# KNeighborsRegression\n",
    "\n",
    "from sklearn.neighbors import KNeighborsRegressor\n",
    "knn = KNeighborsRegressor()\n",
    "knn.fit(X_train,y_train)\n",
    "\n",
    "y_predict_knn = knn.predict(X_test)\n",
    "Accuracy_knn = knn.score(X_test,y_test)\n",
    "print(\"The KNeighborsRegression model accuracy score is \" + str(round(Accuracy_knn,3)))\n",
    "\n",
    "mse_knn = mean_squared_error(y_test,y_predict_knn)\n",
    "print(\"The mean squared error is \" + str(round(mse_knn,3)))\n",
    "\n",
    "rm_knn = rmse(y_test,y_predict_knn)\n",
    "print(\"The root mean square error is \" + str(round(rm_knn,3)))"
   ]
  },
  {
   "cell_type": "code",
   "execution_count": 15,
   "id": "37f93233",
   "metadata": {},
   "outputs": [
    {
     "name": "stdout",
     "output_type": "stream",
     "text": [
      "The svm model accuracy score is 0.758\n",
      "The mean squared error is 79391559.81\n",
      "The root mean square error is 8910.194\n"
     ]
    }
   ],
   "source": [
    "# SVM \n",
    "from sklearn.svm import SVR\n",
    "\n",
    "svm = SVR()\n",
    "svm.fit(X_train, y_train.astype(\"int\"))\n",
    "\n",
    "y_predict_svm = svm.predict(X_test)\n",
    "Accuracy_svm = svm.score(X_test,y_test)\n",
    "print(\"The svm model accuracy score is \" + str(round(Accuracy_knn,3)))\n",
    "\n",
    "mse_svm = mean_squared_error(y_test,y_predict_svm)\n",
    "print(\"The mean squared error is \" + str(round(mse_svm,3)))\n",
    "\n",
    "rm_svm = rmse(y_test,y_predict_svm)\n",
    "print(\"The root mean square error is \" + str(round(rm_svm,3)))"
   ]
  },
  {
   "cell_type": "code",
   "execution_count": 16,
   "id": "3b962e11",
   "metadata": {},
   "outputs": [
    {
     "name": "stdout",
     "output_type": "stream",
     "text": [
      "Learning rate:  0.05\n",
      "Accuracy score (training): 0.574\n",
      "Accuracy score (validation): 0.535\n",
      "\n",
      "Learning rate:  0.1\n",
      "Accuracy score (training): 0.745\n",
      "Accuracy score (validation): 0.692\n",
      "\n",
      "Learning rate:  0.25\n",
      "Accuracy score (training): 0.866\n",
      "Accuracy score (validation): 0.833\n",
      "\n",
      "Learning rate:  0.5\n",
      "Accuracy score (training): 0.912\n",
      "Accuracy score (validation): 0.866\n",
      "\n",
      "Learning rate:  0.75\n",
      "Accuracy score (training): 0.923\n",
      "Accuracy score (validation): 0.859\n",
      "\n",
      "Learning rate:  1\n",
      "Accuracy score (training): 0.915\n",
      "Accuracy score (validation): 0.869\n",
      "\n"
     ]
    }
   ],
   "source": [
    "# Gradient Boosting\n",
    "\n",
    "from sklearn.ensemble import GradientBoostingRegressor\n",
    "\n",
    "learning_rates = [0.05, 0.1, 0.25, 0.5, 0.75, 1]\n",
    "for learning_rate in learning_rates:\n",
    "    gradient = GradientBoostingRegressor(n_estimators=20, learning_rate = learning_rate, max_features=2, max_depth = 2, random_state = 0)\n",
    "    gradient.fit(X_train, y_train)\n",
    "    print(\"Learning rate: \", learning_rate)\n",
    "    print(\"Accuracy score (training): {0:.3f}\".format(gradient.score(X_train, y_train)))\n",
    "    print(\"Accuracy score (validation): {0:.3f}\".format(gradient.score(X_test, y_test)))\n",
    "    print()"
   ]
  },
  {
   "cell_type": "code",
   "execution_count": 17,
   "id": "ab3c0782",
   "metadata": {},
   "outputs": [
    {
     "name": "stdout",
     "output_type": "stream",
     "text": [
      "The Gradient Boosting accuracy score is 0.869\n",
      "The mean squared error is 9574369.173\n",
      "The root mean square error is 3094.248\n"
     ]
    }
   ],
   "source": [
    "# Gradient Boosting (2)\n",
    "\n",
    "gradient = GradientBoostingRegressor(n_estimators=20, learning_rate = 1, max_features=2, max_depth = 2, random_state = 0)\n",
    "gradient.fit(X_train, y_train)\n",
    "y_predict_gradient = gradient.predict(X_test)\n",
    "\n",
    "Accuracy_gradient = gradient.score(X_test,y_test)\n",
    "print(\"The Gradient Boosting accuracy score is \" + str(round(Accuracy_gradient,3)))\n",
    "\n",
    "mse_gradient = mean_squared_error(y_test,y_predict_gradient)\n",
    "print(\"The mean squared error is \" + str(round(mse_gradient,3)))\n",
    "\n",
    "rm_gradient = rmse(y_test,y_predict_gradient)\n",
    "print(\"The root mean square error is \" + str(round(rm_gradient,3)))"
   ]
  },
  {
   "cell_type": "markdown",
   "id": "c79569de",
   "metadata": {},
   "source": [
    "## 6. Model result summary "
   ]
  },
  {
   "cell_type": "code",
   "execution_count": 18,
   "id": "530f9bad",
   "metadata": {},
   "outputs": [
    {
     "name": "stdout",
     "output_type": "stream",
     "text": [
      "+-----------------------+------------------+-------------+---------+\n",
      "| Model                 |   Accuarcy score |         MSE |    RMSE |\n",
      "+=======================+==================+=============+=========+\n",
      "| LogisticRegression    |        0.697938  | 2.20492e+07 | 4695.66 |\n",
      "+-----------------------+------------------+-------------+---------+\n",
      "| LassoRegression       |        0.697977  | 2.20463e+07 | 4695.35 |\n",
      "+-----------------------+------------------+-------------+---------+\n",
      "| RidgeRegression       |        0.695263  | 2.22444e+07 | 4716.4  |\n",
      "+-----------------------+------------------+-------------+---------+\n",
      "| RandomForestRegressor |        0.946954  | 3.87212e+06 | 1967.77 |\n",
      "+-----------------------+------------------+-------------+---------+\n",
      "| KNeighborsRegression  |        0.757965  | 1.76675e+07 | 4203.27 |\n",
      "+-----------------------+------------------+-------------+---------+\n",
      "| SVM                   |       -0.0876213 | 7.93916e+07 | 8910.19 |\n",
      "+-----------------------+------------------+-------------+---------+\n",
      "| Gradient Boosting     |        0.868836  | 9.57437e+06 | 3094.25 |\n",
      "+-----------------------+------------------+-------------+---------+\n"
     ]
    }
   ],
   "source": [
    "\n",
    "from tabulate import tabulate\n",
    "table = [[\"Model\",\"Accuarcy score\",\"MSE\",\"RMSE\"],\n",
    "         [\"LogisticRegression\",Accuracy_linear, mse_linear, rm_linear],\n",
    "         [\"LassoRegression\",Accuracy_lasso, mse_lasso, rm_lasso],\n",
    "         [\"RidgeRegression\",Accuracy_ridge, mse_ridge, rm_ridge],\n",
    "         [\"RandomForestRegressor\", Accuracy_rf, mse_rf, rm_rf],\n",
    "         [\"KNeighborsRegression\", Accuracy_knn, mse_knn, rm_knn],\n",
    "         [\"SVM\", Accuracy_svm, mse_svm, rm_svm],\n",
    "         [\"Gradient Boosting\",Accuracy_gradient, mse_gradient, rm_gradient ]\n",
    "    \n",
    "]\n",
    "\n",
    "print(tabulate(table, headers='firstrow', tablefmt='grid'))\n"
   ]
  },
  {
   "cell_type": "markdown",
   "id": "88ca4dd1",
   "metadata": {},
   "source": [
    "The RandomForestRegressor model has 93% accuarcy rate and very low rmse. The accuracy is much higher than other model, hence, we will\n",
    "take RandomForestRegressor model as the main predict model. At next step, we will use GridsearchCV and asign hyperparameter to modify \n",
    "the model performance again."
   ]
  },
  {
   "cell_type": "markdown",
   "id": "686d3a12",
   "metadata": {},
   "source": [
    "## 7. Gridsearch/hyperparameter"
   ]
  },
  {
   "cell_type": "code",
   "execution_count": 19,
   "id": "12c2fa9b",
   "metadata": {},
   "outputs": [],
   "source": [
    "from sklearn.model_selection import GridSearchCV"
   ]
  },
  {
   "cell_type": "code",
   "execution_count": 20,
   "id": "fa813711",
   "metadata": {},
   "outputs": [
    {
     "name": "stdout",
     "output_type": "stream",
     "text": [
      "RandomForestRegressor(max_features='sqrt', n_estimators=50)\n",
      "0.9165038259712966\n"
     ]
    }
   ],
   "source": [
    "# Gridsearch for RandomFroest\n",
    "gird_rf = RandomForestRegressor()\n",
    "param_grid = {\"criterion\" : [\"squared_error\", \"absolute_error\"], \n",
    "              \"max_features\" : [\"auto\", \"sqrt\", \"log2\"],\n",
    "              \"min_samples_split\" : [2, 4, 8, 16],\n",
    "              \"n_estimators\" : [10, 50, 150]\n",
    "             }\n",
    "\n",
    "gs = GridSearchCV(estimator=gird_rf, param_grid=param_grid)\n",
    "\n",
    "gs = gs.fit(X_train, y_train)\n",
    "\n",
    "print(gs.best_estimator_) \n",
    "print(gs.best_score_)"
   ]
  },
  {
   "cell_type": "code",
   "execution_count": 21,
   "id": "9a0baeff",
   "metadata": {},
   "outputs": [
    {
     "data": {
      "text/plain": [
       "{'criterion': 'squared_error',\n",
       " 'max_features': 'sqrt',\n",
       " 'min_samples_split': 2,\n",
       " 'n_estimators': 50}"
      ]
     },
     "execution_count": 21,
     "metadata": {},
     "output_type": "execute_result"
    }
   ],
   "source": [
    "gs.best_params_"
   ]
  },
  {
   "cell_type": "code",
   "execution_count": 27,
   "id": "02081004",
   "metadata": {},
   "outputs": [
    {
     "name": "stdout",
     "output_type": "stream",
     "text": [
      "The RandomForestRegression model accuracy score is 0.94754\n",
      "The mean squared error is 3872115.67009\n",
      "The root-mean-square error is 1967.76921\n"
     ]
    }
   ],
   "source": [
    "randomforest_grid = RandomForestRegressor(criterion = \"squared_error\",max_features =  \"sqrt\", \n",
    "                                           min_samples_split=2, n_estimators=50)\n",
    "randomforest_grid.fit(X_train, y_train)\n",
    "y_predict_grid = randomforest_grid.predict(X_test)\n",
    "Accuracy_grid = randomforest_grid.score(X_test,y_test)\n",
    "print(\"The RandomForestRegression model accuracy score is \" + str(round(Accuracy_grid,5)))\n",
    "\n",
    "mse_grid = mean_squared_error(y_test,y_predict_rf)\n",
    "print(\"The mean squared error is \" + str(round(mse_grid,5)))\n",
    "\n",
    "rm_grid = rmse(y_test,y_predict_rf)\n",
    "print(\"The root-mean-square error is \" + str(round(rm_grid,5)))"
   ]
  },
  {
   "cell_type": "code",
   "execution_count": 28,
   "id": "6e3991d4",
   "metadata": {},
   "outputs": [
    {
     "name": "stdout",
     "output_type": "stream",
     "text": [
      "+----------------------------+------------------+-------------+---------+\n",
      "| Model                      |   Accuarcy score |         MSE |    RMSE |\n",
      "+============================+==================+=============+=========+\n",
      "| RandomForestRegressor      |         0.946954 | 3.87212e+06 | 1967.77 |\n",
      "+----------------------------+------------------+-------------+---------+\n",
      "| RandomForestRegressor_gird |         0.947539 | 3.87212e+06 | 1967.77 |\n",
      "+----------------------------+------------------+-------------+---------+\n"
     ]
    }
   ],
   "source": [
    "table = [[\"Model\",\"Accuarcy score\",\"MSE\",\"RMSE\"],\n",
    "         [\"RandomForestRegressor\", Accuracy_rf, mse_rf, rm_rf],\n",
    "         [\"RandomForestRegressor_gird\", Accuracy_grid, mse_grid, rm_grid]    \n",
    "        ]\n",
    "\n",
    "print(tabulate(table, headers='firstrow', tablefmt='grid'))"
   ]
  },
  {
   "cell_type": "code",
   "execution_count": null,
   "id": "fd52c047",
   "metadata": {},
   "outputs": [],
   "source": [
    "# The random forest model with tuned hyperparameters give us the highest test accuracy socre."
   ]
  },
  {
   "cell_type": "markdown",
   "id": "6245f025",
   "metadata": {},
   "source": [
    "## 8. Features importance "
   ]
  },
  {
   "cell_type": "code",
   "execution_count": 29,
   "id": "4cd1f24b",
   "metadata": {},
   "outputs": [
    {
     "data": {
      "image/png": "[encoded data removed]",
      "text/plain": [
       "<Figure size 360x360 with 1 Axes>"
      ]
     },
     "metadata": {
      "needs_background": "light"
     },
     "output_type": "display_data"
    }
   ],
   "source": [
    "plt.subplots(figsize=(5,5))\n",
    "importance = randomforest_grid.feature_importances_\n",
    "indices = np.argsort(importance)\n",
    "plt.title('Feature Importances')\n",
    "plt.barh(range(len(indices)), importance[indices], color='b', align='center')\n",
    "plt.yticks(range(len(indices)), [features[i] for i in indices])\n",
    "plt.xlabel('Relative Importance')\n",
    "plt.show()"
   ]
  },
  {
   "cell_type": "markdown",
   "id": "94bf54e2",
   "metadata": {},
   "source": [
    "## 9. Conclusion "
   ]
  },
  {
   "cell_type": "markdown",
   "id": "f8f650d0",
   "metadata": {},
   "source": [
    "In order to identify the parameters most likely to affect the price of the phone and predict the phone price, we have used serveral models:\n",
    "* LogisticRegression\n",
    "* LassoRegression\n",
    "* RidgeRegression\n",
    "* RandomForestRegressor\n",
    "* KNeighborsRegression\n",
    "* SVM\n",
    "* Gradient Boosting\n",
    "\n",
    "From the result, the random forest model has the significant higer accuarce rate (94.6%) than other model. So first we define use it as the predict model. Then we use GridSearch method further improved accuracy to 94.7%. Under this result, the importance test shows three most importance feature realted to mobile phone price are: Ram, Mp_speed and int_memoray.The feature importance score of Ram and Mp_speed are over 0.2.The results clearly show that the most important factor in determining the price of a phone is the performance of its processor, from speed to cache. They involve the core functions of the phone, and the Central Processing Unit is still the most important than other parameters that affect appearance (resolution, height, weight) or battery life (battery power). "
   ]
  }
 ],
 "metadata": {
  "kernelspec": {
   "display_name": "Python 3",
   "language": "python",
   "name": "python3"
  },
  "language_info": {
   "codemirror_mode": {
    "name": "ipython",
    "version": 3
   },
   "file_extension": ".py",
   "mimetype": "text/x-python",
   "name": "python",
   "nbconvert_exporter": "python",
   "pygments_lexer": "ipython3",
   "version": "3.8.8"
  }
 },
 "nbformat": 4,
 "nbformat_minor": 5
}
